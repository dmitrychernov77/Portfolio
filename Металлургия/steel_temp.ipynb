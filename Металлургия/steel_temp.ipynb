{
 "cells": [
  {
   "cell_type": "markdown",
   "metadata": {},
   "source": [
    "# Industry Project\n",
    "\n",
    "Чтобы оптимизировать производственные расходы, металлургический комбинат решил уменьшить потребление электроэнергии на этапе обработки стали. Нам предстоит построить модель, которая предскажет температуру стали.\n",
    "\n",
    "### Описание этапа обработки\n",
    "\n",
    "Сталь обрабатывают в металлическом ковше вместимостью около 100 тонн. Чтобы ковш выдерживал высокие температуры, изнутри его облицовывают огнеупорным кирпичом. Расплавленную сталь заливают в ковш и подогревают до нужной температуры графитовыми электродами. Они установлены в крышке ковша. \n",
    "\n",
    "Из сплава выводится сера (десульфурация), добавлением примесей корректируется химический состав и отбираются пробы. Сталь легируют — изменяют её состав — подавая куски сплава из бункера для сыпучих материалов или проволоку через специальный трайб-аппарат (англ. tribe, «масса»).\n",
    "\n",
    "Перед тем как первый раз ввести легирующие добавки, измеряют температуру стали и производят её химический анализ. Потом температуру на несколько минут повышают, добавляют легирующие материалы и продувают сплав инертным газом. Затем его перемешивают и снова проводят измерения. Такой цикл повторяется до достижения целевого химического состава и оптимальной температуры плавки.\n",
    "\n",
    "Тогда расплавленная сталь отправляется на доводку металла или поступает в машину непрерывной разливки. Оттуда готовый продукт выходит в виде заготовок-слябов (англ. *slab*, «плита»).\n",
    "\n",
    "### Описание данных\n",
    "\n",
    "Данные состоят из файлов, полученных из разных источников:\n",
    "\n",
    "- `data_arc.csv` — данные об электродах;\n",
    "- `data_bulk.csv` — данные о подаче сыпучих материалов (объём);\n",
    "- `data_bulk_time.csv` *—* данные о подаче сыпучих материалов (время);\n",
    "- `data_gas.csv` — данные о продувке сплава газом;\n",
    "- `data_temp.csv` — результаты измерения температуры;\n",
    "- `data_wire.csv` — данные о проволочных материалах (объём);\n",
    "- `data_wire_time.csv` — данные о проволочных материалах (время).\n",
    "\n",
    "Во всех файлах столбец `key` содержит номер партии. В файлах может быть несколько строк с одинаковым значением `key`: они соответствуют разным итерациям обработки."
   ]
  },
  {
   "cell_type": "markdown",
   "metadata": {},
   "source": [
    "## Подготовка данных"
   ]
  },
  {
   "cell_type": "markdown",
   "metadata": {},
   "source": [
    "Загрузка необходимых библиотек"
   ]
  },
  {
   "cell_type": "code",
   "execution_count": 1,
   "metadata": {},
   "outputs": [],
   "source": [
    "import pandas as pd\n",
    "import numpy as np\n",
    "import matplotlib.pyplot as plt\n",
    "import seaborn as sns\n",
    "from sklearn.linear_model import LinearRegression, Ridge, Lasso, SGDRegressor, ElasticNet\n",
    "from sklearn.ensemble import RandomForestRegressor\n",
    "from sklearn.svm import LinearSVR, SVR\n",
    "from sklearn.model_selection import train_test_split, cross_val_score\n",
    "from sklearn.metrics import mean_absolute_error\n",
    "from sklearn.utils import shuffle\n",
    "import lightgbm as lgb\n",
    "from sklearn.model_selection import GridSearchCV, KFold\n",
    "from sklearn.pipeline import Pipeline\n",
    "from sklearn.preprocessing import StandardScaler\n",
    "import re"
   ]
  },
  {
   "cell_type": "code",
   "execution_count": 2,
   "metadata": {},
   "outputs": [],
   "source": [
    "import warnings\n",
    "warnings.filterwarnings('ignore')"
   ]
  },
  {
   "cell_type": "markdown",
   "metadata": {},
   "source": [
    "Загрузка файлов и их объединение в общий список для удобства обращения."
   ]
  },
  {
   "cell_type": "code",
   "execution_count": 3,
   "metadata": {},
   "outputs": [],
   "source": [
    "arc = pd.read_csv(\"//datasets/final_steel/data_arc.csv\", \n",
    "                     parse_dates=['Начало нагрева дугой', 'Конец нагрева дугой'])\n",
    "bulk = pd.read_csv(\"//datasets/final_steel/data_bulk.csv\")\n",
    "bulk_time = pd.read_csv(\"//datasets/final_steel/data_bulk_time.csv\")\n",
    "gas = pd.read_csv(\"//datasets/final_steel/data_gas.csv\")\n",
    "temp = pd.read_csv(\"//datasets/final_steel/data_temp.csv\", parse_dates=['Время замера'])\n",
    "wire = pd.read_csv(\"//datasets/final_steel/data_wire.csv\")\n",
    "wire_time = pd.read_csv(\"//datasets/final_steel/data_wire_time.csv\")\n",
    "\n",
    "all_df = [arc, bulk, bulk_time, gas, temp, wire, wire_time]"
   ]
  },
  {
   "cell_type": "markdown",
   "metadata": {},
   "source": [
    "Функция для поиска пропусков"
   ]
  },
  {
   "cell_type": "code",
   "execution_count": 4,
   "metadata": {},
   "outputs": [],
   "source": [
    "def research_pass(df):\n",
    "    count_pass = df.isnull().sum()\n",
    "    count_pass_perc = count_pass * 100 / len(df)\n",
    "    \n",
    "    table_pass = pd.concat([count_pass, count_pass_perc], axis=1)\n",
    "    table_pass.columns = ['count_pass', '% pass']\n",
    "    \n",
    "    table_pass = table_pass[table_pass['% pass'] != 0].sort_values('% pass', ascending=False)\n",
    "    \n",
    "    if len(table_pass) == 0:\n",
    "        return 'Пропуски не обнаружены'\n",
    "    \n",
    "    return table_pass"
   ]
  },
  {
   "cell_type": "markdown",
   "metadata": {},
   "source": [
    "Вывод по каждой таблице: \n",
    "- первые 5 строк;\n",
    "- количество и процент пропусков в каждом столбце;\n",
    "- общая информация."
   ]
  },
  {
   "cell_type": "code",
   "execution_count": 5,
   "metadata": {},
   "outputs": [
    {
     "name": "stdout",
     "output_type": "stream",
     "text": [
      "======================= Datafreim №1 =======================\n",
      "Первые 5 строк: \n",
      "\n",
      "   key Начало нагрева дугой Конец нагрева дугой  Активная мощность  \\\n",
      "0    1  2019-05-03 11:02:14 2019-05-03 11:06:02           0.976059   \n",
      "1    1  2019-05-03 11:07:28 2019-05-03 11:10:33           0.805607   \n",
      "2    1  2019-05-03 11:11:44 2019-05-03 11:14:36           0.744363   \n",
      "3    1  2019-05-03 11:18:14 2019-05-03 11:24:19           1.659363   \n",
      "4    1  2019-05-03 11:26:09 2019-05-03 11:28:37           0.692755   \n",
      "\n",
      "   Реактивная мощность  \n",
      "0             0.687084  \n",
      "1             0.520285  \n",
      "2             0.498805  \n",
      "3             1.062669  \n",
      "4             0.414397  \n",
      "\n",
      "Пропуски не обнаружены\n",
      "\n",
      "\n",
      "<class 'pandas.core.frame.DataFrame'>\n",
      "RangeIndex: 14876 entries, 0 to 14875\n",
      "Data columns (total 5 columns):\n",
      "key                     14876 non-null int64\n",
      "Начало нагрева дугой    14876 non-null datetime64[ns]\n",
      "Конец нагрева дугой     14876 non-null datetime64[ns]\n",
      "Активная мощность       14876 non-null float64\n",
      "Реактивная мощность     14876 non-null float64\n",
      "dtypes: datetime64[ns](2), float64(2), int64(1)\n",
      "memory usage: 581.2 KB\n",
      "None\n",
      "============================================================\n",
      "\n",
      "\n",
      "\n",
      "======================= Datafreim №2 =======================\n",
      "Первые 5 строк: \n",
      "\n",
      "   key  Bulk 1  Bulk 2  Bulk 3  Bulk 4  Bulk 5  Bulk 6  Bulk 7  Bulk 8  \\\n",
      "0    1     NaN     NaN     NaN    43.0     NaN     NaN     NaN     NaN   \n",
      "1    2     NaN     NaN     NaN    73.0     NaN     NaN     NaN     NaN   \n",
      "2    3     NaN     NaN     NaN    34.0     NaN     NaN     NaN     NaN   \n",
      "3    4     NaN     NaN     NaN    81.0     NaN     NaN     NaN     NaN   \n",
      "4    5     NaN     NaN     NaN    78.0     NaN     NaN     NaN     NaN   \n",
      "\n",
      "   Bulk 9  Bulk 10  Bulk 11  Bulk 12  Bulk 13  Bulk 14  Bulk 15  \n",
      "0     NaN      NaN      NaN    206.0      NaN    150.0    154.0  \n",
      "1     NaN      NaN      NaN    206.0      NaN    149.0    154.0  \n",
      "2     NaN      NaN      NaN    205.0      NaN    152.0    153.0  \n",
      "3     NaN      NaN      NaN    207.0      NaN    153.0    154.0  \n",
      "4     NaN      NaN      NaN    203.0      NaN    151.0    152.0  \n",
      "\n",
      "         count_pass     % pass\n",
      "Bulk 8         3128  99.968041\n",
      "Bulk 13        3111  99.424736\n",
      "Bulk 9         3110  99.392777\n",
      "Bulk 2         3107  99.296900\n",
      "Bulk 7         3104  99.201023\n",
      "Bulk 5         3052  97.539150\n",
      "Bulk 10        2953  94.375200\n",
      "Bulk 11        2952  94.343241\n",
      "Bulk 1         2877  91.946309\n",
      "Bulk 6         2553  81.591563\n",
      "Bulk 4         2115  67.593480\n",
      "Bulk 3         1831  58.517098\n",
      "Bulk 15         881  28.155960\n",
      "Bulk 12         679  21.700224\n",
      "Bulk 14         323  10.322787\n",
      "\n",
      "\n",
      "<class 'pandas.core.frame.DataFrame'>\n",
      "RangeIndex: 3129 entries, 0 to 3128\n",
      "Data columns (total 16 columns):\n",
      "key        3129 non-null int64\n",
      "Bulk 1     252 non-null float64\n",
      "Bulk 2     22 non-null float64\n",
      "Bulk 3     1298 non-null float64\n",
      "Bulk 4     1014 non-null float64\n",
      "Bulk 5     77 non-null float64\n",
      "Bulk 6     576 non-null float64\n",
      "Bulk 7     25 non-null float64\n",
      "Bulk 8     1 non-null float64\n",
      "Bulk 9     19 non-null float64\n",
      "Bulk 10    176 non-null float64\n",
      "Bulk 11    177 non-null float64\n",
      "Bulk 12    2450 non-null float64\n",
      "Bulk 13    18 non-null float64\n",
      "Bulk 14    2806 non-null float64\n",
      "Bulk 15    2248 non-null float64\n",
      "dtypes: float64(15), int64(1)\n",
      "memory usage: 391.2 KB\n",
      "None\n",
      "============================================================\n",
      "\n",
      "\n",
      "\n",
      "======================= Datafreim №3 =======================\n",
      "Первые 5 строк: \n",
      "\n",
      "   key Bulk 1 Bulk 2 Bulk 3               Bulk 4 Bulk 5 Bulk 6 Bulk 7 Bulk 8  \\\n",
      "0    1    NaN    NaN    NaN  2019-05-03 11:21:30    NaN    NaN    NaN    NaN   \n",
      "1    2    NaN    NaN    NaN  2019-05-03 11:46:38    NaN    NaN    NaN    NaN   \n",
      "2    3    NaN    NaN    NaN  2019-05-03 12:31:06    NaN    NaN    NaN    NaN   \n",
      "3    4    NaN    NaN    NaN  2019-05-03 12:48:43    NaN    NaN    NaN    NaN   \n",
      "4    5    NaN    NaN    NaN  2019-05-03 13:18:50    NaN    NaN    NaN    NaN   \n",
      "\n",
      "  Bulk 9 Bulk 10 Bulk 11              Bulk 12 Bulk 13              Bulk 14  \\\n",
      "0    NaN     NaN     NaN  2019-05-03 11:03:52     NaN  2019-05-03 11:03:52   \n",
      "1    NaN     NaN     NaN  2019-05-03 11:40:20     NaN  2019-05-03 11:40:20   \n",
      "2    NaN     NaN     NaN  2019-05-03 12:09:40     NaN  2019-05-03 12:09:40   \n",
      "3    NaN     NaN     NaN  2019-05-03 12:41:24     NaN  2019-05-03 12:41:24   \n",
      "4    NaN     NaN     NaN  2019-05-03 13:12:56     NaN  2019-05-03 13:12:56   \n",
      "\n",
      "               Bulk 15  \n",
      "0  2019-05-03 11:03:52  \n",
      "1  2019-05-03 11:40:20  \n",
      "2  2019-05-03 12:09:40  \n",
      "3  2019-05-03 12:41:24  \n",
      "4  2019-05-03 13:12:56  \n",
      "\n",
      "         count_pass     % pass\n",
      "Bulk 8         3128  99.968041\n",
      "Bulk 13        3111  99.424736\n",
      "Bulk 9         3110  99.392777\n",
      "Bulk 2         3107  99.296900\n",
      "Bulk 7         3104  99.201023\n",
      "Bulk 5         3052  97.539150\n",
      "Bulk 10        2953  94.375200\n",
      "Bulk 11        2952  94.343241\n",
      "Bulk 1         2877  91.946309\n",
      "Bulk 6         2553  81.591563\n",
      "Bulk 4         2115  67.593480\n",
      "Bulk 3         1831  58.517098\n",
      "Bulk 15         881  28.155960\n",
      "Bulk 12         679  21.700224\n",
      "Bulk 14         323  10.322787\n",
      "\n",
      "\n",
      "<class 'pandas.core.frame.DataFrame'>\n",
      "RangeIndex: 3129 entries, 0 to 3128\n",
      "Data columns (total 16 columns):\n",
      "key        3129 non-null int64\n",
      "Bulk 1     252 non-null object\n",
      "Bulk 2     22 non-null object\n",
      "Bulk 3     1298 non-null object\n",
      "Bulk 4     1014 non-null object\n",
      "Bulk 5     77 non-null object\n",
      "Bulk 6     576 non-null object\n",
      "Bulk 7     25 non-null object\n",
      "Bulk 8     1 non-null object\n",
      "Bulk 9     19 non-null object\n",
      "Bulk 10    176 non-null object\n",
      "Bulk 11    177 non-null object\n",
      "Bulk 12    2450 non-null object\n",
      "Bulk 13    18 non-null object\n",
      "Bulk 14    2806 non-null object\n",
      "Bulk 15    2248 non-null object\n",
      "dtypes: int64(1), object(15)\n",
      "memory usage: 391.2+ KB\n",
      "None\n",
      "============================================================\n",
      "\n",
      "\n",
      "\n",
      "======================= Datafreim №4 =======================\n",
      "Первые 5 строк: \n",
      "\n",
      "   key      Газ 1\n",
      "0    1  29.749986\n",
      "1    2  12.555561\n",
      "2    3  28.554793\n",
      "3    4  18.841219\n",
      "4    5   5.413692\n",
      "\n",
      "Пропуски не обнаружены\n",
      "\n",
      "\n",
      "<class 'pandas.core.frame.DataFrame'>\n",
      "RangeIndex: 3239 entries, 0 to 3238\n",
      "Data columns (total 2 columns):\n",
      "key      3239 non-null int64\n",
      "Газ 1    3239 non-null float64\n",
      "dtypes: float64(1), int64(1)\n",
      "memory usage: 50.7 KB\n",
      "None\n",
      "============================================================\n",
      "\n",
      "\n",
      "\n",
      "======================= Datafreim №5 =======================\n",
      "Первые 5 строк: \n",
      "\n",
      "   key        Время замера  Температура\n",
      "0    1 2019-05-03 11:16:18       1571.0\n",
      "1    1 2019-05-03 11:25:53       1604.0\n",
      "2    1 2019-05-03 11:29:11       1618.0\n",
      "3    1 2019-05-03 11:30:01       1601.0\n",
      "4    1 2019-05-03 11:30:39       1613.0\n",
      "\n",
      "             count_pass     % pass\n",
      "Температура        2901  18.237254\n",
      "\n",
      "\n",
      "<class 'pandas.core.frame.DataFrame'>\n",
      "RangeIndex: 15907 entries, 0 to 15906\n",
      "Data columns (total 3 columns):\n",
      "key             15907 non-null int64\n",
      "Время замера    15907 non-null datetime64[ns]\n",
      "Температура     13006 non-null float64\n",
      "dtypes: datetime64[ns](1), float64(1), int64(1)\n",
      "memory usage: 372.9 KB\n",
      "None\n",
      "============================================================\n",
      "\n",
      "\n",
      "\n",
      "======================= Datafreim №6 =======================\n",
      "Первые 5 строк: \n",
      "\n",
      "   key     Wire 1   Wire 2  Wire 3  Wire 4  Wire 5  Wire 6  Wire 7  Wire 8  \\\n",
      "0    1  60.059998      NaN     NaN     NaN     NaN     NaN     NaN     NaN   \n",
      "1    2  96.052315      NaN     NaN     NaN     NaN     NaN     NaN     NaN   \n",
      "2    3  91.160157      NaN     NaN     NaN     NaN     NaN     NaN     NaN   \n",
      "3    4  89.063515      NaN     NaN     NaN     NaN     NaN     NaN     NaN   \n",
      "4    5  89.238236  9.11456     NaN     NaN     NaN     NaN     NaN     NaN   \n",
      "\n",
      "   Wire 9  \n",
      "0     NaN  \n",
      "1     NaN  \n",
      "2     NaN  \n",
      "3     NaN  \n",
      "4     NaN  \n",
      "\n",
      "        count_pass     % pass\n",
      "Wire 5        3080  99.967543\n",
      "Wire 7        3070  99.642973\n",
      "Wire 4        3067  99.545602\n",
      "Wire 8        3062  99.383317\n",
      "Wire 9        3052  99.058747\n",
      "Wire 3        3018  97.955209\n",
      "Wire 6        3008  97.630639\n",
      "Wire 2        2002  64.978903\n",
      "Wire 1          26   0.843882\n",
      "\n",
      "\n",
      "<class 'pandas.core.frame.DataFrame'>\n",
      "RangeIndex: 3081 entries, 0 to 3080\n",
      "Data columns (total 10 columns):\n",
      "key       3081 non-null int64\n",
      "Wire 1    3055 non-null float64\n",
      "Wire 2    1079 non-null float64\n",
      "Wire 3    63 non-null float64\n",
      "Wire 4    14 non-null float64\n",
      "Wire 5    1 non-null float64\n",
      "Wire 6    73 non-null float64\n",
      "Wire 7    11 non-null float64\n",
      "Wire 8    19 non-null float64\n",
      "Wire 9    29 non-null float64\n",
      "dtypes: float64(9), int64(1)\n",
      "memory usage: 240.8 KB\n",
      "None\n",
      "============================================================\n",
      "\n",
      "\n",
      "\n",
      "======================= Datafreim №7 =======================\n",
      "Первые 5 строк: \n",
      "\n",
      "   key               Wire 1               Wire 2 Wire 3 Wire 4 Wire 5 Wire 6  \\\n",
      "0    1  2019-05-03 11:11:41                  NaN    NaN    NaN    NaN    NaN   \n",
      "1    2  2019-05-03 11:46:10                  NaN    NaN    NaN    NaN    NaN   \n",
      "2    3  2019-05-03 12:13:47                  NaN    NaN    NaN    NaN    NaN   \n",
      "3    4  2019-05-03 12:48:05                  NaN    NaN    NaN    NaN    NaN   \n",
      "4    5  2019-05-03 13:18:15  2019-05-03 13:32:06    NaN    NaN    NaN    NaN   \n",
      "\n",
      "  Wire 7 Wire 8 Wire 9  \n",
      "0    NaN    NaN    NaN  \n",
      "1    NaN    NaN    NaN  \n",
      "2    NaN    NaN    NaN  \n",
      "3    NaN    NaN    NaN  \n",
      "4    NaN    NaN    NaN  \n",
      "\n",
      "        count_pass     % pass\n",
      "Wire 5        3080  99.967543\n",
      "Wire 7        3070  99.642973\n",
      "Wire 4        3067  99.545602\n",
      "Wire 8        3062  99.383317\n",
      "Wire 9        3052  99.058747\n",
      "Wire 3        3018  97.955209\n",
      "Wire 6        3008  97.630639\n",
      "Wire 2        2002  64.978903\n",
      "Wire 1          26   0.843882\n",
      "\n",
      "\n",
      "<class 'pandas.core.frame.DataFrame'>\n",
      "RangeIndex: 3081 entries, 0 to 3080\n",
      "Data columns (total 10 columns):\n",
      "key       3081 non-null int64\n",
      "Wire 1    3055 non-null object\n",
      "Wire 2    1079 non-null object\n",
      "Wire 3    63 non-null object\n",
      "Wire 4    14 non-null object\n",
      "Wire 5    1 non-null object\n",
      "Wire 6    73 non-null object\n",
      "Wire 7    11 non-null object\n",
      "Wire 8    19 non-null object\n",
      "Wire 9    29 non-null object\n",
      "dtypes: int64(1), object(9)\n",
      "memory usage: 240.8+ KB\n",
      "None\n",
      "============================================================\n",
      "\n",
      "\n",
      "\n"
     ]
    }
   ],
   "source": [
    "num = 1\n",
    "for df in all_df:\n",
    "    print('='*23, 'Datafreim №{}'.format(num), '='*23)\n",
    "    print('Первые 5 строк: \\n')\n",
    "    print(df.head())\n",
    "    print()\n",
    "    print(research_pass(df))\n",
    "    print('\\n')\n",
    "    print(df.info())\n",
    "    print('='*60)\n",
    "    print('\\n\\n')\n",
    "    num += 1   "
   ]
  },
  {
   "cell_type": "markdown",
   "metadata": {},
   "source": [
    "## Предобработка и анализ данных."
   ]
  },
  {
   "cell_type": "markdown",
   "metadata": {},
   "source": [
    "Найдем длительность времени между первым и последним замером температуры для каждой партии."
   ]
  },
  {
   "cell_type": "code",
   "execution_count": 6,
   "metadata": {},
   "outputs": [
    {
     "data": {
      "text/plain": [
       "key\n",
       "1     861.0\n",
       "2    1305.0\n",
       "3    1300.0\n",
       "4     388.0\n",
       "5     762.0\n",
       "Name: full_time, dtype: float64"
      ]
     },
     "execution_count": 6,
     "metadata": {},
     "output_type": "execute_result"
    }
   ],
   "source": [
    "start_time = temp.sort_values('Время замера').groupby('key').first()['Время замера']\n",
    "end_time = temp.sort_values('Время замера').groupby('key').last()['Время замера']\n",
    "full_time = (end_time - start_time).dt.total_seconds()\n",
    "full_time.name = 'full_time'\n",
    "full_time.head()"
   ]
  },
  {
   "cell_type": "markdown",
   "metadata": {},
   "source": [
    "Суммарное время нагрева электродами, то есть сумму значений по всем промежуткам между запусками нагрева электродов."
   ]
  },
  {
   "cell_type": "code",
   "execution_count": 7,
   "metadata": {},
   "outputs": [
    {
     "data": {
      "text/html": [
       "<div>\n",
       "<style scoped>\n",
       "    .dataframe tbody tr th:only-of-type {\n",
       "        vertical-align: middle;\n",
       "    }\n",
       "\n",
       "    .dataframe tbody tr th {\n",
       "        vertical-align: top;\n",
       "    }\n",
       "\n",
       "    .dataframe thead th {\n",
       "        text-align: right;\n",
       "    }\n",
       "</style>\n",
       "<table border=\"1\" class=\"dataframe\">\n",
       "  <thead>\n",
       "    <tr style=\"text-align: right;\">\n",
       "      <th></th>\n",
       "      <th>key</th>\n",
       "      <th>Начало нагрева дугой</th>\n",
       "      <th>Конец нагрева дугой</th>\n",
       "      <th>Активная мощность</th>\n",
       "      <th>Реактивная мощность</th>\n",
       "      <th>heating_time</th>\n",
       "    </tr>\n",
       "  </thead>\n",
       "  <tbody>\n",
       "    <tr>\n",
       "      <td>0</td>\n",
       "      <td>1</td>\n",
       "      <td>2019-05-03 11:02:14</td>\n",
       "      <td>2019-05-03 11:06:02</td>\n",
       "      <td>0.976059</td>\n",
       "      <td>0.687084</td>\n",
       "      <td>228.0</td>\n",
       "    </tr>\n",
       "    <tr>\n",
       "      <td>1</td>\n",
       "      <td>1</td>\n",
       "      <td>2019-05-03 11:07:28</td>\n",
       "      <td>2019-05-03 11:10:33</td>\n",
       "      <td>0.805607</td>\n",
       "      <td>0.520285</td>\n",
       "      <td>185.0</td>\n",
       "    </tr>\n",
       "    <tr>\n",
       "      <td>2</td>\n",
       "      <td>1</td>\n",
       "      <td>2019-05-03 11:11:44</td>\n",
       "      <td>2019-05-03 11:14:36</td>\n",
       "      <td>0.744363</td>\n",
       "      <td>0.498805</td>\n",
       "      <td>172.0</td>\n",
       "    </tr>\n",
       "    <tr>\n",
       "      <td>3</td>\n",
       "      <td>1</td>\n",
       "      <td>2019-05-03 11:18:14</td>\n",
       "      <td>2019-05-03 11:24:19</td>\n",
       "      <td>1.659363</td>\n",
       "      <td>1.062669</td>\n",
       "      <td>365.0</td>\n",
       "    </tr>\n",
       "    <tr>\n",
       "      <td>4</td>\n",
       "      <td>1</td>\n",
       "      <td>2019-05-03 11:26:09</td>\n",
       "      <td>2019-05-03 11:28:37</td>\n",
       "      <td>0.692755</td>\n",
       "      <td>0.414397</td>\n",
       "      <td>148.0</td>\n",
       "    </tr>\n",
       "  </tbody>\n",
       "</table>\n",
       "</div>"
      ],
      "text/plain": [
       "   key Начало нагрева дугой Конец нагрева дугой  Активная мощность  \\\n",
       "0    1  2019-05-03 11:02:14 2019-05-03 11:06:02           0.976059   \n",
       "1    1  2019-05-03 11:07:28 2019-05-03 11:10:33           0.805607   \n",
       "2    1  2019-05-03 11:11:44 2019-05-03 11:14:36           0.744363   \n",
       "3    1  2019-05-03 11:18:14 2019-05-03 11:24:19           1.659363   \n",
       "4    1  2019-05-03 11:26:09 2019-05-03 11:28:37           0.692755   \n",
       "\n",
       "   Реактивная мощность  heating_time  \n",
       "0             0.687084         228.0  \n",
       "1             0.520285         185.0  \n",
       "2             0.498805         172.0  \n",
       "3             1.062669         365.0  \n",
       "4             0.414397         148.0  "
      ]
     },
     "execution_count": 7,
     "metadata": {},
     "output_type": "execute_result"
    }
   ],
   "source": [
    "arc['heating_time'] = arc['Конец нагрева дугой'] - arc['Начало нагрева дугой']\n",
    "arc['heating_time'] = arc['heating_time'].dt.total_seconds()\n",
    "arc.head()"
   ]
  },
  {
   "cell_type": "code",
   "execution_count": 8,
   "metadata": {},
   "outputs": [
    {
     "data": {
      "text/html": [
       "<div>\n",
       "<style scoped>\n",
       "    .dataframe tbody tr th:only-of-type {\n",
       "        vertical-align: middle;\n",
       "    }\n",
       "\n",
       "    .dataframe tbody tr th {\n",
       "        vertical-align: top;\n",
       "    }\n",
       "\n",
       "    .dataframe thead th {\n",
       "        text-align: right;\n",
       "    }\n",
       "</style>\n",
       "<table border=\"1\" class=\"dataframe\">\n",
       "  <thead>\n",
       "    <tr style=\"text-align: right;\">\n",
       "      <th></th>\n",
       "      <th>arc_time</th>\n",
       "    </tr>\n",
       "    <tr>\n",
       "      <th>key</th>\n",
       "      <th></th>\n",
       "    </tr>\n",
       "  </thead>\n",
       "  <tbody>\n",
       "    <tr>\n",
       "      <td>1</td>\n",
       "      <td>1098.0</td>\n",
       "    </tr>\n",
       "    <tr>\n",
       "      <td>2</td>\n",
       "      <td>811.0</td>\n",
       "    </tr>\n",
       "    <tr>\n",
       "      <td>3</td>\n",
       "      <td>655.0</td>\n",
       "    </tr>\n",
       "    <tr>\n",
       "      <td>4</td>\n",
       "      <td>741.0</td>\n",
       "    </tr>\n",
       "    <tr>\n",
       "      <td>5</td>\n",
       "      <td>869.0</td>\n",
       "    </tr>\n",
       "  </tbody>\n",
       "</table>\n",
       "</div>"
      ],
      "text/plain": [
       "     arc_time\n",
       "key          \n",
       "1      1098.0\n",
       "2       811.0\n",
       "3       655.0\n",
       "4       741.0\n",
       "5       869.0"
      ]
     },
     "execution_count": 8,
     "metadata": {},
     "output_type": "execute_result"
    }
   ],
   "source": [
    "arc_time = arc.groupby('key').agg({'heating_time': np.sum})\n",
    "arc_time.rename({'heating_time': 'arc_time'}, axis=1, inplace=True)\n",
    "arc_time.head()"
   ]
  },
  {
   "cell_type": "markdown",
   "metadata": {},
   "source": [
    "В отдельный столбец запишем начало нагрева дугой."
   ]
  },
  {
   "cell_type": "code",
   "execution_count": 9,
   "metadata": {},
   "outputs": [
    {
     "data": {
      "text/html": [
       "<div>\n",
       "<style scoped>\n",
       "    .dataframe tbody tr th:only-of-type {\n",
       "        vertical-align: middle;\n",
       "    }\n",
       "\n",
       "    .dataframe tbody tr th {\n",
       "        vertical-align: top;\n",
       "    }\n",
       "\n",
       "    .dataframe thead th {\n",
       "        text-align: right;\n",
       "    }\n",
       "</style>\n",
       "<table border=\"1\" class=\"dataframe\">\n",
       "  <thead>\n",
       "    <tr style=\"text-align: right;\">\n",
       "      <th></th>\n",
       "      <th>start_time</th>\n",
       "    </tr>\n",
       "    <tr>\n",
       "      <th>key</th>\n",
       "      <th></th>\n",
       "    </tr>\n",
       "  </thead>\n",
       "  <tbody>\n",
       "    <tr>\n",
       "      <td>1</td>\n",
       "      <td>2019-05-03 11:02:14</td>\n",
       "    </tr>\n",
       "    <tr>\n",
       "      <td>2</td>\n",
       "      <td>2019-05-03 11:34:14</td>\n",
       "    </tr>\n",
       "    <tr>\n",
       "      <td>3</td>\n",
       "      <td>2019-05-03 12:06:54</td>\n",
       "    </tr>\n",
       "    <tr>\n",
       "      <td>4</td>\n",
       "      <td>2019-05-03 12:39:37</td>\n",
       "    </tr>\n",
       "    <tr>\n",
       "      <td>5</td>\n",
       "      <td>2019-05-03 13:11:13</td>\n",
       "    </tr>\n",
       "  </tbody>\n",
       "</table>\n",
       "</div>"
      ],
      "text/plain": [
       "             start_time\n",
       "key                    \n",
       "1   2019-05-03 11:02:14\n",
       "2   2019-05-03 11:34:14\n",
       "3   2019-05-03 12:06:54\n",
       "4   2019-05-03 12:39:37\n",
       "5   2019-05-03 13:11:13"
      ]
     },
     "execution_count": 9,
     "metadata": {},
     "output_type": "execute_result"
    }
   ],
   "source": [
    "arc_begin = arc.groupby('key').agg({'Начало нагрева дугой': np.min})\n",
    "arc_begin.rename({'Начало нагрева дугой': 'start_time'}, axis=1, inplace=True)\n",
    "arc_begin.head()"
   ]
  },
  {
   "cell_type": "markdown",
   "metadata": {},
   "source": [
    "Количество запусков нагрева электродами."
   ]
  },
  {
   "cell_type": "code",
   "execution_count": 10,
   "metadata": {},
   "outputs": [
    {
     "data": {
      "text/plain": [
       "key\n",
       "1    5\n",
       "2    4\n",
       "3    5\n",
       "4    4\n",
       "5    4\n",
       "Name: arc_starts, dtype: int64"
      ]
     },
     "execution_count": 10,
     "metadata": {},
     "output_type": "execute_result"
    }
   ],
   "source": [
    "arc_starts = arc.groupby('key').count()['heating_time']\n",
    "arc_starts.name = 'arc_starts'\n",
    "arc_starts.head()"
   ]
  },
  {
   "cell_type": "markdown",
   "metadata": {},
   "source": [
    "В данных с реактивной мощностью есть отрицательное значение - удалим его."
   ]
  },
  {
   "cell_type": "code",
   "execution_count": 11,
   "metadata": {},
   "outputs": [],
   "source": [
    "ind_to_drop = arc[arc['Реактивная мощность'] < 0].index\n",
    "arc = arc.drop(ind_to_drop)"
   ]
  },
  {
   "cell_type": "markdown",
   "metadata": {},
   "source": [
    "Найдем среднее соотношение активной и реактивной мощностей."
   ]
  },
  {
   "cell_type": "code",
   "execution_count": 12,
   "metadata": {},
   "outputs": [
    {
     "data": {
      "text/plain": [
       "0    1.420582\n",
       "1    1.548395\n",
       "2    1.492292\n",
       "3    1.561504\n",
       "4    1.671717\n",
       "Name: power_ratio, dtype: float64"
      ]
     },
     "execution_count": 12,
     "metadata": {},
     "output_type": "execute_result"
    }
   ],
   "source": [
    "arc['power_ratio'] = (arc['Активная мощность'] / arc['Реактивная мощность'])\n",
    "arc['power_ratio'].head()"
   ]
  },
  {
   "cell_type": "code",
   "execution_count": 13,
   "metadata": {},
   "outputs": [
    {
     "data": {
      "text/plain": [
       "key\n",
       "1    1.538898\n",
       "2    1.551834\n",
       "3    1.583120\n",
       "4    1.563487\n",
       "5    1.480428\n",
       "Name: power_ratio, dtype: float64"
      ]
     },
     "execution_count": 13,
     "metadata": {},
     "output_type": "execute_result"
    }
   ],
   "source": [
    "mean_power_ratio = arc.groupby('key').mean()['power_ratio']\n",
    "mean_power_ratio.head()"
   ]
  },
  {
   "cell_type": "markdown",
   "metadata": {},
   "source": [
    "Найдем полную мощность.\n",
    "\n",
    "$ P = \\sqrt{P_{act}^2 + P_{react}^2} $"
   ]
  },
  {
   "cell_type": "code",
   "execution_count": 14,
   "metadata": {},
   "outputs": [
    {
     "data": {
      "text/plain": [
       "key\n",
       "1    1.165279\n",
       "2    0.912304\n",
       "3    0.597907\n",
       "4    0.953741\n",
       "5    1.008939\n",
       "Name: full_power, dtype: float64"
      ]
     },
     "execution_count": 14,
     "metadata": {},
     "output_type": "execute_result"
    }
   ],
   "source": [
    "arc['full_power'] = np.sqrt(np.power(arc['Активная мощность'], 2) + np.power(arc['Реактивная мощность'],2))\n",
    "arc['full_power'].head()\n",
    "\n",
    "mean_full_power = arc.groupby('key').mean()['full_power']\n",
    "mean_full_power.head()"
   ]
  },
  {
   "cell_type": "markdown",
   "metadata": {},
   "source": [
    "По условию задачи мы предсказываем последнюю измеренную температуру в партии, тогда как первая измеренная температура может подаваться как признак. Также в измерениях есть большое кол-во пропущенных значений и единичных измерений - эти данные удалим, т.к. эти партии считаются забракованными."
   ]
  },
  {
   "cell_type": "code",
   "execution_count": 15,
   "metadata": {},
   "outputs": [],
   "source": [
    "ind_to_drop = temp[temp['Температура'].isna()].index\n",
    "temp = temp.drop(ind_to_drop)"
   ]
  },
  {
   "cell_type": "code",
   "execution_count": 16,
   "metadata": {},
   "outputs": [],
   "source": [
    "temp_starts = temp.groupby('key').count()\n",
    "keys_to_drop = temp_starts[temp_starts['Температура'] == 1].index"
   ]
  },
  {
   "cell_type": "code",
   "execution_count": 17,
   "metadata": {},
   "outputs": [],
   "source": [
    "temp = temp[~temp['key'].isin(keys_to_drop)]"
   ]
  },
  {
   "cell_type": "code",
   "execution_count": 18,
   "metadata": {},
   "outputs": [],
   "source": [
    "start_temp = temp.groupby('key').first()['Температура']\n",
    "last_temp = temp.groupby('key').last()['Температура']"
   ]
  },
  {
   "cell_type": "markdown",
   "metadata": {},
   "source": [
    "Объединим все таблицы в одну."
   ]
  },
  {
   "cell_type": "code",
   "execution_count": 19,
   "metadata": {},
   "outputs": [
    {
     "data": {
      "text/html": [
       "<div>\n",
       "<style scoped>\n",
       "    .dataframe tbody tr th:only-of-type {\n",
       "        vertical-align: middle;\n",
       "    }\n",
       "\n",
       "    .dataframe tbody tr th {\n",
       "        vertical-align: top;\n",
       "    }\n",
       "\n",
       "    .dataframe thead th {\n",
       "        text-align: right;\n",
       "    }\n",
       "</style>\n",
       "<table border=\"1\" class=\"dataframe\">\n",
       "  <thead>\n",
       "    <tr style=\"text-align: right;\">\n",
       "      <th></th>\n",
       "      <th>full_time</th>\n",
       "      <th>start_time</th>\n",
       "      <th>arc_time</th>\n",
       "      <th>arc_starts</th>\n",
       "      <th>power_ratio</th>\n",
       "      <th>full_power</th>\n",
       "    </tr>\n",
       "    <tr>\n",
       "      <th>key</th>\n",
       "      <th></th>\n",
       "      <th></th>\n",
       "      <th></th>\n",
       "      <th></th>\n",
       "      <th></th>\n",
       "      <th></th>\n",
       "    </tr>\n",
       "  </thead>\n",
       "  <tbody>\n",
       "    <tr>\n",
       "      <td>1</td>\n",
       "      <td>861.0</td>\n",
       "      <td>2019-05-03 11:02:14</td>\n",
       "      <td>1098.0</td>\n",
       "      <td>5.0</td>\n",
       "      <td>1.538898</td>\n",
       "      <td>1.165279</td>\n",
       "    </tr>\n",
       "    <tr>\n",
       "      <td>2</td>\n",
       "      <td>1305.0</td>\n",
       "      <td>2019-05-03 11:34:14</td>\n",
       "      <td>811.0</td>\n",
       "      <td>4.0</td>\n",
       "      <td>1.551834</td>\n",
       "      <td>0.912304</td>\n",
       "    </tr>\n",
       "    <tr>\n",
       "      <td>3</td>\n",
       "      <td>1300.0</td>\n",
       "      <td>2019-05-03 12:06:54</td>\n",
       "      <td>655.0</td>\n",
       "      <td>5.0</td>\n",
       "      <td>1.583120</td>\n",
       "      <td>0.597907</td>\n",
       "    </tr>\n",
       "    <tr>\n",
       "      <td>4</td>\n",
       "      <td>388.0</td>\n",
       "      <td>2019-05-03 12:39:37</td>\n",
       "      <td>741.0</td>\n",
       "      <td>4.0</td>\n",
       "      <td>1.563487</td>\n",
       "      <td>0.953741</td>\n",
       "    </tr>\n",
       "    <tr>\n",
       "      <td>5</td>\n",
       "      <td>762.0</td>\n",
       "      <td>2019-05-03 13:11:13</td>\n",
       "      <td>869.0</td>\n",
       "      <td>4.0</td>\n",
       "      <td>1.480428</td>\n",
       "      <td>1.008939</td>\n",
       "    </tr>\n",
       "  </tbody>\n",
       "</table>\n",
       "</div>"
      ],
      "text/plain": [
       "     full_time          start_time  arc_time  arc_starts  power_ratio  \\\n",
       "key                                                                     \n",
       "1        861.0 2019-05-03 11:02:14    1098.0         5.0     1.538898   \n",
       "2       1305.0 2019-05-03 11:34:14     811.0         4.0     1.551834   \n",
       "3       1300.0 2019-05-03 12:06:54     655.0         5.0     1.583120   \n",
       "4        388.0 2019-05-03 12:39:37     741.0         4.0     1.563487   \n",
       "5        762.0 2019-05-03 13:11:13     869.0         4.0     1.480428   \n",
       "\n",
       "     full_power  \n",
       "key              \n",
       "1      1.165279  \n",
       "2      0.912304  \n",
       "3      0.597907  \n",
       "4      0.953741  \n",
       "5      1.008939  "
      ]
     },
     "execution_count": 19,
     "metadata": {},
     "output_type": "execute_result"
    }
   ],
   "source": [
    "data = pd.DataFrame(full_time).join([arc_begin, arc_time, arc_starts, mean_power_ratio, mean_full_power])\n",
    "data.head()"
   ]
  },
  {
   "cell_type": "markdown",
   "metadata": {},
   "source": [
    "Добавим столбцы с температурами и переименуем их."
   ]
  },
  {
   "cell_type": "code",
   "execution_count": 20,
   "metadata": {},
   "outputs": [],
   "source": [
    "data = data.merge(start_temp, on='key')\n",
    "data.rename({'Температура': 'start_temp'}, axis=1, inplace=True)\n",
    "\n",
    "data = data.merge(last_temp, on='key')\n",
    "data.rename({'Температура': 'last_temp'}, axis=1, inplace=True)"
   ]
  },
  {
   "cell_type": "markdown",
   "metadata": {},
   "source": [
    "Добавим данные о подаче газа."
   ]
  },
  {
   "cell_type": "code",
   "execution_count": 21,
   "metadata": {},
   "outputs": [],
   "source": [
    "data = data.merge(gas, on='key')\n",
    "data.rename({'Газ 1': 'gas'}, axis=1, inplace=True)"
   ]
  },
  {
   "cell_type": "markdown",
   "metadata": {},
   "source": [
    "Проверим необходимые статистистические данные и построим графики."
   ]
  },
  {
   "cell_type": "code",
   "execution_count": 22,
   "metadata": {},
   "outputs": [
    {
     "data": {
      "text/html": [
       "<div>\n",
       "<style scoped>\n",
       "    .dataframe tbody tr th:only-of-type {\n",
       "        vertical-align: middle;\n",
       "    }\n",
       "\n",
       "    .dataframe tbody tr th {\n",
       "        vertical-align: top;\n",
       "    }\n",
       "\n",
       "    .dataframe thead th {\n",
       "        text-align: right;\n",
       "    }\n",
       "</style>\n",
       "<table border=\"1\" class=\"dataframe\">\n",
       "  <thead>\n",
       "    <tr style=\"text-align: right;\">\n",
       "      <th></th>\n",
       "      <th>key</th>\n",
       "      <th>full_time</th>\n",
       "      <th>arc_time</th>\n",
       "      <th>arc_starts</th>\n",
       "      <th>power_ratio</th>\n",
       "      <th>full_power</th>\n",
       "      <th>start_temp</th>\n",
       "      <th>last_temp</th>\n",
       "      <th>gas</th>\n",
       "    </tr>\n",
       "  </thead>\n",
       "  <tbody>\n",
       "    <tr>\n",
       "      <td>count</td>\n",
       "      <td>2473.000000</td>\n",
       "      <td>2473.000000</td>\n",
       "      <td>2473.000000</td>\n",
       "      <td>2473.000000</td>\n",
       "      <td>2473.000000</td>\n",
       "      <td>2473.000000</td>\n",
       "      <td>2473.000000</td>\n",
       "      <td>2473.000000</td>\n",
       "      <td>2473.000000</td>\n",
       "    </tr>\n",
       "    <tr>\n",
       "      <td>mean</td>\n",
       "      <td>1251.615851</td>\n",
       "      <td>1855.011727</td>\n",
       "      <td>799.888395</td>\n",
       "      <td>4.625556</td>\n",
       "      <td>1.360785</td>\n",
       "      <td>0.843502</td>\n",
       "      <td>1588.404772</td>\n",
       "      <td>1595.338455</td>\n",
       "      <td>11.142960</td>\n",
       "    </tr>\n",
       "    <tr>\n",
       "      <td>std</td>\n",
       "      <td>719.487074</td>\n",
       "      <td>1301.612656</td>\n",
       "      <td>340.883828</td>\n",
       "      <td>1.610451</td>\n",
       "      <td>0.130730</td>\n",
       "      <td>0.251752</td>\n",
       "      <td>29.253826</td>\n",
       "      <td>16.029273</td>\n",
       "      <td>6.323742</td>\n",
       "    </tr>\n",
       "    <tr>\n",
       "      <td>min</td>\n",
       "      <td>1.000000</td>\n",
       "      <td>234.000000</td>\n",
       "      <td>57.000000</td>\n",
       "      <td>1.000000</td>\n",
       "      <td>0.687735</td>\n",
       "      <td>0.228541</td>\n",
       "      <td>1191.000000</td>\n",
       "      <td>1541.000000</td>\n",
       "      <td>0.008399</td>\n",
       "    </tr>\n",
       "    <tr>\n",
       "      <td>25%</td>\n",
       "      <td>631.000000</td>\n",
       "      <td>1183.000000</td>\n",
       "      <td>573.000000</td>\n",
       "      <td>4.000000</td>\n",
       "      <td>1.294367</td>\n",
       "      <td>0.660566</td>\n",
       "      <td>1572.000000</td>\n",
       "      <td>1587.000000</td>\n",
       "      <td>7.105241</td>\n",
       "    </tr>\n",
       "    <tr>\n",
       "      <td>50%</td>\n",
       "      <td>1253.000000</td>\n",
       "      <td>1593.000000</td>\n",
       "      <td>772.000000</td>\n",
       "      <td>4.000000</td>\n",
       "      <td>1.372818</td>\n",
       "      <td>0.819609</td>\n",
       "      <td>1588.000000</td>\n",
       "      <td>1593.000000</td>\n",
       "      <td>9.926730</td>\n",
       "    </tr>\n",
       "    <tr>\n",
       "      <td>75%</td>\n",
       "      <td>1873.000000</td>\n",
       "      <td>2262.000000</td>\n",
       "      <td>986.000000</td>\n",
       "      <td>6.000000</td>\n",
       "      <td>1.440724</td>\n",
       "      <td>0.999015</td>\n",
       "      <td>1605.000000</td>\n",
       "      <td>1599.000000</td>\n",
       "      <td>13.872219</td>\n",
       "    </tr>\n",
       "    <tr>\n",
       "      <td>max</td>\n",
       "      <td>2499.000000</td>\n",
       "      <td>23537.000000</td>\n",
       "      <td>4189.000000</td>\n",
       "      <td>16.000000</td>\n",
       "      <td>1.782164</td>\n",
       "      <td>2.147979</td>\n",
       "      <td>1679.000000</td>\n",
       "      <td>1700.000000</td>\n",
       "      <td>77.995040</td>\n",
       "    </tr>\n",
       "  </tbody>\n",
       "</table>\n",
       "</div>"
      ],
      "text/plain": [
       "               key     full_time     arc_time   arc_starts  power_ratio  \\\n",
       "count  2473.000000   2473.000000  2473.000000  2473.000000  2473.000000   \n",
       "mean   1251.615851   1855.011727   799.888395     4.625556     1.360785   \n",
       "std     719.487074   1301.612656   340.883828     1.610451     0.130730   \n",
       "min       1.000000    234.000000    57.000000     1.000000     0.687735   \n",
       "25%     631.000000   1183.000000   573.000000     4.000000     1.294367   \n",
       "50%    1253.000000   1593.000000   772.000000     4.000000     1.372818   \n",
       "75%    1873.000000   2262.000000   986.000000     6.000000     1.440724   \n",
       "max    2499.000000  23537.000000  4189.000000    16.000000     1.782164   \n",
       "\n",
       "        full_power   start_temp    last_temp          gas  \n",
       "count  2473.000000  2473.000000  2473.000000  2473.000000  \n",
       "mean      0.843502  1588.404772  1595.338455    11.142960  \n",
       "std       0.251752    29.253826    16.029273     6.323742  \n",
       "min       0.228541  1191.000000  1541.000000     0.008399  \n",
       "25%       0.660566  1572.000000  1587.000000     7.105241  \n",
       "50%       0.819609  1588.000000  1593.000000     9.926730  \n",
       "75%       0.999015  1605.000000  1599.000000    13.872219  \n",
       "max       2.147979  1679.000000  1700.000000    77.995040  "
      ]
     },
     "execution_count": 22,
     "metadata": {},
     "output_type": "execute_result"
    }
   ],
   "source": [
    "data.describe()"
   ]
  },
  {
   "cell_type": "code",
   "execution_count": 58,
   "metadata": {},
   "outputs": [
    {
     "data": {
      "image/png": "[encoded data removed]",
      "text/plain": [
       "<Figure size 1080x1296 with 10 Axes>"
      ]
     },
     "metadata": {
      "needs_background": "light"
     },
     "output_type": "display_data"
    }
   ],
   "source": [
    "fig, axes = plt.subplots(5, 2)\n",
    "fig.set_size_inches(15, 18)\n",
    "\n",
    "sns.boxplot(data['full_time'], ax=axes[0,0])\n",
    "sns.boxplot(data['arc_time'], ax=axes[0,1])\n",
    "sns.boxplot(data['arc_starts'], ax=axes[1,0])\n",
    "sns.boxplot(data['power_ratio'], ax=axes[1,1])\n",
    "sns.boxplot(data['full_power'], ax=axes[2,0])\n",
    "sns.boxplot(data['gas'], ax=axes[2,1])\n",
    "sns.boxplot(data['start_temp'], ax=axes[3,0])\n",
    "sns.boxplot(data['last_temp'], ax=axes[3,1])\n",
    "sns.distplot(data['start_temp'], kde=False, ax=axes[4,0])\n",
    "sns.distplot(data['last_temp'], kde=False, ax=axes[4,1])\n",
    "\n",
    "plt.show()"
   ]
  },
  {
   "cell_type": "markdown",
   "metadata": {},
   "source": [
    "**По диаграммам размаха можно выделить следующие особенности:**\n",
    "\n",
    "1) Разница во времени в измерениях температур как правило не превышает 1 часа, но есть небольшое число измерений превышающих это значение. Возможно, их следует удалить.\n",
    "\n",
    "2) Большая часть партий нагревалась за время не более получаса, но сущесвтуют партии, время нагрева на которых существенно больше. Отмести их не получится, т.к. это теоретически может быть обусловленно тех процессом и логично должно отражаться на итоговой температуре.\n",
    "\n",
    "3) На графиках к с количеством нагревов электродами, соотношением мощностей, объема продувки газом и полной мощности также присутсвуют выбросы, но они могут быть обусловлены тех. процессом, поэтому внесение корректировок не потребуется.\n",
    "\n",
    "4) Значения стартовой температуры меньше 1500 градусов не выглядят правдоподобными, особенно с учетом того, что и минимальная итоговая температура - около 1540 градусов. Предположим, что это ошибки измерения, и удалим их.\n",
    "\n",
    "5) На гистограмме последней измеренной температуры хорошо заметен участок после 1640 градусов - он выглядит странно, вероятно - это перегрев или ошибки измерений. Возможно, его тоже стоит удалить."
   ]
  },
  {
   "cell_type": "code",
   "execution_count": 24,
   "metadata": {},
   "outputs": [
    {
     "data": {
      "text/plain": [
       "101"
      ]
     },
     "execution_count": 24,
     "metadata": {},
     "output_type": "execute_result"
    }
   ],
   "source": [
    "len(data[data['full_time'] > 3600])"
   ]
  },
  {
   "cell_type": "markdown",
   "metadata": {},
   "source": [
    "Больше часа в длительности времени между первым и последним замером температуры - 101 измерение, т.е. порядка 4% от всей выборки - удалим их."
   ]
  },
  {
   "cell_type": "code",
   "execution_count": 25,
   "metadata": {},
   "outputs": [],
   "source": [
    "keys_to_drop = data[data['full_time'] > 3600].index"
   ]
  },
  {
   "cell_type": "markdown",
   "metadata": {},
   "source": [
    "Удалим строки со значениями стартовой температуры меньше 1500 градусов."
   ]
  },
  {
   "cell_type": "code",
   "execution_count": 26,
   "metadata": {},
   "outputs": [],
   "source": [
    "keys_to_drop = keys_to_drop.append(start_temp[start_temp < 1500].index)"
   ]
  },
  {
   "cell_type": "markdown",
   "metadata": {},
   "source": [
    "Также удалим строки с последней измеренной температурой более 1640 градусов."
   ]
  },
  {
   "cell_type": "code",
   "execution_count": 27,
   "metadata": {},
   "outputs": [],
   "source": [
    "keys_to_drop = keys_to_drop.append(last_temp[last_temp > 1640].index)"
   ]
  },
  {
   "cell_type": "code",
   "execution_count": 28,
   "metadata": {},
   "outputs": [
    {
     "data": {
      "text/plain": [
       "185"
      ]
     },
     "execution_count": 28,
     "metadata": {},
     "output_type": "execute_result"
    }
   ],
   "source": [
    "len(keys_to_drop)"
   ]
  },
  {
   "cell_type": "markdown",
   "metadata": {},
   "source": [
    "Всего удаляемых измерений - 185, что является 7% от общей выборки. Приемлемо для удаления."
   ]
  },
  {
   "cell_type": "code",
   "execution_count": 29,
   "metadata": {},
   "outputs": [
    {
     "name": "stdout",
     "output_type": "stream",
     "text": [
      "<class 'pandas.core.frame.DataFrame'>\n",
      "Int64Index: 2291 entries, 0 to 2472\n",
      "Data columns (total 10 columns):\n",
      "key            2291 non-null int64\n",
      "full_time      2291 non-null float64\n",
      "start_time     2291 non-null datetime64[ns]\n",
      "arc_time       2291 non-null float64\n",
      "arc_starts     2291 non-null float64\n",
      "power_ratio    2291 non-null float64\n",
      "full_power     2291 non-null float64\n",
      "start_temp     2291 non-null float64\n",
      "last_temp      2291 non-null float64\n",
      "gas            2291 non-null float64\n",
      "dtypes: datetime64[ns](1), float64(8), int64(1)\n",
      "memory usage: 196.9 KB\n"
     ]
    }
   ],
   "source": [
    "data = data.drop(keys_to_drop)\n",
    "data.info()"
   ]
  },
  {
   "cell_type": "markdown",
   "metadata": {},
   "source": [
    "Также дополним датасет с данными по сыпучим и проволочным материалам. Заметим, что пропуски в этих таблицах эквивалентны нулевым значениям, поэтому заполним их нулями."
   ]
  },
  {
   "cell_type": "code",
   "execution_count": 30,
   "metadata": {},
   "outputs": [],
   "source": [
    "data = data.merge(bulk, on='key')\n",
    "data = data.merge(wire, on='key')"
   ]
  },
  {
   "cell_type": "code",
   "execution_count": 31,
   "metadata": {},
   "outputs": [],
   "source": [
    "data = data.fillna(0)"
   ]
  },
  {
   "cell_type": "markdown",
   "metadata": {},
   "source": [
    "## Обучение модели."
   ]
  },
  {
   "cell_type": "markdown",
   "metadata": {},
   "source": [
    "Подготовим отдельный датасет для обучения модели. Датасет *data* оставим для изучения влияния времени добавления сыпучих и проволочных материалов (точнее разницы во времени между началом нагрева и добавлением этих материалов)"
   ]
  },
  {
   "cell_type": "code",
   "execution_count": 32,
   "metadata": {},
   "outputs": [],
   "source": [
    "df = data.drop(['key','start_time'], axis=1).reset_index(drop=True)"
   ]
  },
  {
   "cell_type": "code",
   "execution_count": 33,
   "metadata": {},
   "outputs": [],
   "source": [
    "#df.to_csv('last_data.csv', index=False)"
   ]
  },
  {
   "cell_type": "markdown",
   "metadata": {},
   "source": [
    "Подготовим тренировочный и тестовый датасеты, разделив выборку в соотношении 80/20%."
   ]
  },
  {
   "cell_type": "code",
   "execution_count": 34,
   "metadata": {},
   "outputs": [],
   "source": [
    "X = df.drop(['last_temp'], axis=1)\n",
    "y = df['last_temp']"
   ]
  },
  {
   "cell_type": "code",
   "execution_count": 35,
   "metadata": {},
   "outputs": [],
   "source": [
    "X_train, X_test, y_train, y_test = train_test_split(X, y, test_size=0.2, random_state=12345)"
   ]
  },
  {
   "cell_type": "markdown",
   "metadata": {},
   "source": [
    "Данные в датасетах необходимо отмасштабировать, для этого будем использовать StandardScaler. Также с помощью GridSearch преберем простые модели и выберем из них лучшую для дальнейшего подбора гиперпараметров."
   ]
  },
  {
   "cell_type": "code",
   "execution_count": 36,
   "metadata": {},
   "outputs": [],
   "source": [
    "pipe = Pipeline([('scaler', StandardScaler()), \n",
    "                 ('model', LinearRegression())])\n",
    "param_grid = [{'model': [LinearRegression()]}, \n",
    "               {'model': [Ridge()]}, \n",
    "               {'model': [Lasso()]}, \n",
    "               {'model': [SGDRegressor()]}, \n",
    "               {'model': [ElasticNet()]}, \n",
    "               {'model': [SVR(kernel='poly')]}, \n",
    "               {'model': [LinearSVR()]}, \n",
    "               {'model': [RandomForestRegressor()]}]"
   ]
  },
  {
   "cell_type": "code",
   "execution_count": 37,
   "metadata": {},
   "outputs": [
    {
     "data": {
      "text/plain": [
       "{'model': RandomForestRegressor(bootstrap=True, criterion='mse', max_depth=None,\n",
       "                       max_features='auto', max_leaf_nodes=None,\n",
       "                       min_impurity_decrease=0.0, min_impurity_split=None,\n",
       "                       min_samples_leaf=1, min_samples_split=2,\n",
       "                       min_weight_fraction_leaf=0.0, n_estimators=10,\n",
       "                       n_jobs=None, oob_score=False, random_state=None,\n",
       "                       verbose=0, warm_start=False)}"
      ]
     },
     "execution_count": 37,
     "metadata": {},
     "output_type": "execute_result"
    }
   ],
   "source": [
    "grid_model = GridSearchCV(pipe, param_grid=param_grid, cv=3, scoring='neg_mean_absolute_error')\n",
    "grid_model.fit(X_train, y_train);\n",
    "grid_model.best_params_"
   ]
  },
  {
   "cell_type": "markdown",
   "metadata": {},
   "source": [
    "Лучшие результаты показала модель случайного леса.\n",
    "Вычислим MAE для этой модели."
   ]
  },
  {
   "cell_type": "code",
   "execution_count": 38,
   "metadata": {},
   "outputs": [
    {
     "data": {
      "text/plain": [
       "5.700231481481479"
      ]
     },
     "execution_count": 38,
     "metadata": {},
     "output_type": "execute_result"
    }
   ],
   "source": [
    "mean_absolute_error(y_test, grid_model.predict(X_test))"
   ]
  },
  {
   "cell_type": "markdown",
   "metadata": {},
   "source": [
    "Подбор гиперпараметров для модели для модели случайного леса не дает ощутимых результатов.\n",
    "\n",
    "*подбор параметров осуществлялся с помощью GridSearch в Collab*"
   ]
  },
  {
   "cell_type": "markdown",
   "metadata": {},
   "source": [
    "Проверим модель градиентного бустинга LightGBM. Для кросс-валидации будем использовать алгоритм KFold."
   ]
  },
  {
   "cell_type": "code",
   "execution_count": 42,
   "metadata": {},
   "outputs": [],
   "source": [
    "gbm = lgb.LGBMRegressor(random_state=12345)\n",
    "kfold = KFold(n_splits=3)"
   ]
  },
  {
   "cell_type": "code",
   "execution_count": 44,
   "metadata": {},
   "outputs": [
    {
     "data": {
      "text/plain": [
       "{'learning_rate': 0.008,\n",
       " 'max_depth': 8,\n",
       " 'num_iterations': 1000,\n",
       " 'num_leaves': 23}"
      ]
     },
     "execution_count": 44,
     "metadata": {},
     "output_type": "execute_result"
    }
   ],
   "source": [
    "param_grid = {'num_leaves'    : [23, 27, 31],\n",
    "              'max_depth'         : [7, 8, 9],\n",
    "              'learning_rate' : [0.008, 0.01, 0.015],\n",
    "              'num_iterations'    : [700, 850, 1000]\n",
    "                 }\n",
    "grid = GridSearchCV(gbm, param_grid = param_grid, cv = kfold, scoring='neg_mean_absolute_error')\n",
    "grid.fit(X_train, y_train, verbose=False)\n",
    "grid.best_params_"
   ]
  },
  {
   "cell_type": "code",
   "execution_count": 45,
   "metadata": {},
   "outputs": [
    {
     "data": {
      "text/plain": [
       "5.51416456944225"
      ]
     },
     "execution_count": 45,
     "metadata": {},
     "output_type": "execute_result"
    }
   ],
   "source": [
    "mean_absolute_error(y_test, grid.predict(X_test))"
   ]
  },
  {
   "cell_type": "markdown",
   "metadata": {},
   "source": [
    "МАЕ для модели градиентного бустинга - 5,5 градусов. Необходимая ключевая метрика достигнута."
   ]
  },
  {
   "cell_type": "markdown",
   "metadata": {},
   "source": [
    "Оценим степени влияния каждого из признаков на предсказания модели."
   ]
  },
  {
   "cell_type": "code",
   "execution_count": 57,
   "metadata": {},
   "outputs": [
    {
     "data": {
      "image/png": "[encoded data removed]",
      "text/plain": [
       "<Figure size 1080x720 with 1 Axes>"
      ]
     },
     "metadata": {
      "needs_background": "light"
     },
     "output_type": "display_data"
    }
   ],
   "source": [
    "feature_imp = pd.DataFrame(sorted(zip(grid.best_estimator_.feature_importances_,X.columns)), columns=['value','feature'])\n",
    "\n",
    "plt.figure(figsize=(15, 10))\n",
    "sns.barplot(x=\"value\", y=\"feature\", data=feature_imp.sort_values(by=\"value\", ascending=False))\n",
    "plt.title('LightGBM Features')\n",
    "plt.tight_layout()\n",
    "plt.show()"
   ]
  },
  {
   "cell_type": "markdown",
   "metadata": {},
   "source": [
    "Вполне логично, что главным влияющим признаком оказалась стартовая температура.\n",
    "\n",
    "Можно заметить, что некоторые из признаков (сыпучие и проволочные материалы) незначительно влияют на модель или не влияют вовсе. Без потери качества их можно удалить при необходимости (ниже функция для этого)."
   ]
  },
  {
   "cell_type": "code",
   "execution_count": 55,
   "metadata": {},
   "outputs": [],
   "source": [
    "def drop_features(df, feature_imp):\n",
    "    features_to_drop = feature_imp[feature_imp['value'] == 0]['feature']\n",
    "    df_2 = df.drop(features_to_drop, axis=1)\n",
    "    return df_2"
   ]
  },
  {
   "cell_type": "markdown",
   "metadata": {},
   "source": [
    "Для оценки работы моделей построим графики их предсказаний и сравним их с реальными данными."
   ]
  },
  {
   "cell_type": "code",
   "execution_count": 56,
   "metadata": {},
   "outputs": [
    {
     "data": {
      "image/png": "[encoded data removed]",
      "text/plain": [
       "<Figure size 2700x1080 with 1 Axes>"
      ]
     },
     "metadata": {
      "needs_background": "light"
     },
     "output_type": "display_data"
    }
   ],
   "source": [
    "plt.figure(figsize=(15,6), dpi=180)\n",
    "\n",
    "sns.distplot(grid_model.predict(X_test), label = 'Предсказания Random Forest')\n",
    "sns.distplot(grid.predict(X_test), label = 'Предсказания Light GBM')\n",
    "sns.distplot(y_test, label = 'Реальные данные')\n",
    "\n",
    "plt.xlabel('Температура на последнем этапе')\n",
    "plt.ylabel('Плотность вероятности')\n",
    "\n",
    "plt.suptitle('Предсказания моделей')\n",
    "\n",
    "plt.legend()\n",
    "\n",
    "plt.show()"
   ]
  },
  {
   "cell_type": "markdown",
   "metadata": {},
   "source": [
    "По графикам видно, что обе модели излишне нормализуют ключевой признак. При этом хорошо заметно, что градиетный бустинг справился с задачей заметно лучше, особенно для значений далеких от среднего."
   ]
  },
  {
   "cell_type": "markdown",
   "metadata": {},
   "source": [
    "# Вывод.\n",
    "\n",
    "В рамках данной работы были предобработаны основные данные, сгруппированны по номеру партии и выделены ключевые признаки.\n",
    "\n",
    "Часть данных пришлось исключить из обучения модели - некорретные значения температур, неудачные партии (ни одного или одно измерение).\n",
    "\n",
    "Для итогового датасета были подобраны основные модели - модель случанойного леса и градиентного бустинга, показавшие значение ключевой метрики МАЕ 5,7 и 5,5 соответсвенно.\n",
    "\n",
    "Изучена степень влияния каждого признака на лучшую модель.\n",
    "\n",
    "Проведена оценка предсказаний моделей.\n",
    "\n",
    "Итог: МАЕ = 5,5 градусов говорит о том, что модель с достаточной точностью прогнозирует конечную температуру стали, что, безусловно, поможет оптимизировать потребление энергии на этапе обработки металла.\n",
    "\n",
    "*P.S. изучение остальных признаков возможно в следующей итерации."
   ]
  },
  {
   "cell_type": "code",
   "execution_count": null,
   "metadata": {},
   "outputs": [],
   "source": []
  }
 ],
 "metadata": {
  "kernelspec": {
   "display_name": "Python 3",
   "language": "python",
   "name": "python3"
  },
  "language_info": {
   "codemirror_mode": {
    "name": "ipython",
    "version": 3
   },
   "file_extension": ".py",
   "mimetype": "text/x-python",
   "name": "python",
   "nbconvert_exporter": "python",
   "pygments_lexer": "ipython3",
   "version": "3.7.6"
  }
 },
 "nbformat": 4,
 "nbformat_minor": 2
}
