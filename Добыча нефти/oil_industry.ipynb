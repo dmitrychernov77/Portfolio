{
 "cells": [
  {
   "cell_type": "markdown",
   "metadata": {},
   "source": [
    "# Описание проекта"
   ]
  },
  {
   "cell_type": "markdown",
   "metadata": {},
   "source": [
    "Нам предоставлены пробы нефти в трёх регионах: в каждом 10 000 месторождений, где измерили качество нефти и объём её запасов. Необходимо построить модель машинного обучения, которая поможет определить регион, где добыча принесёт наибольшую прибыль, а также проанализировать возможную прибыль и риски техникой *Bootstrap.*\n",
    "\n",
    "Шаги для выбора локации:\n",
    "\n",
    "- В избранном регионе ищут месторождения, для каждого определяют значения признаков;\n",
    "- Строят модель и оценивают объём запасов;\n",
    "- Выбирают месторождения с самым высокими оценками значений. Количество месторождений зависит от бюджета компании и стоимости разработки одной скважины;\n",
    "- Прибыль равна суммарной прибыли отобранных месторождений."
   ]
  },
  {
   "cell_type": "markdown",
   "metadata": {},
   "source": [
    "### Описание данных\n",
    "\n",
    "Данные геологоразведки трёх регионов содержат следующие признаки:\n",
    "-\tid — уникальный идентификатор скважины;\n",
    "-\tf0, f1, f2 — три признака точек;\n",
    "-\tproduct — объём запасов в скважине (тыс. баррелей)."
   ]
  },
  {
   "cell_type": "markdown",
   "metadata": {},
   "source": [
    "# 1. Загрузка и подготовка данных"
   ]
  },
  {
   "cell_type": "markdown",
   "metadata": {},
   "source": [
    "Загрузим все необходимые библиотеки."
   ]
  },
  {
   "cell_type": "code",
   "execution_count": 1,
   "metadata": {},
   "outputs": [],
   "source": [
    "import pandas as pd\n",
    "import numpy as np\n",
    "import matplotlib.pyplot as plt\n",
    "from sklearn.linear_model import LinearRegression\n",
    "from sklearn.model_selection import train_test_split\n",
    "from sklearn.metrics import mean_squared_error, r2_score\n",
    "import seaborn as sns\n",
    "from sklearn.utils import shuffle"
   ]
  },
  {
   "cell_type": "markdown",
   "metadata": {},
   "source": [
    "Прочтем файлы, посмотрим на структуру данных в каждом из них."
   ]
  },
  {
   "cell_type": "code",
   "execution_count": 2,
   "metadata": {},
   "outputs": [
    {
     "name": "stdout",
     "output_type": "stream",
     "text": [
      "<class 'pandas.core.frame.DataFrame'>\n",
      "RangeIndex: 100000 entries, 0 to 99999\n",
      "Data columns (total 5 columns):\n",
      "id         100000 non-null object\n",
      "f0         100000 non-null float64\n",
      "f1         100000 non-null float64\n",
      "f2         100000 non-null float64\n",
      "product    100000 non-null float64\n",
      "dtypes: float64(4), object(1)\n",
      "memory usage: 3.8+ MB\n"
     ]
    }
   ],
   "source": [
    "df0 = pd.read_csv('/datasets/geo_data_0.csv')\n",
    "df1 = pd.read_csv('/datasets/geo_data_1.csv')\n",
    "df2 = pd.read_csv('/datasets/geo_data_2.csv')\n",
    "df0.info()"
   ]
  },
  {
   "cell_type": "code",
   "execution_count": 3,
   "metadata": {},
   "outputs": [
    {
     "name": "stdout",
     "output_type": "stream",
     "text": [
      "<class 'pandas.core.frame.DataFrame'>\n",
      "RangeIndex: 100000 entries, 0 to 99999\n",
      "Data columns (total 5 columns):\n",
      "id         100000 non-null object\n",
      "f0         100000 non-null float64\n",
      "f1         100000 non-null float64\n",
      "f2         100000 non-null float64\n",
      "product    100000 non-null float64\n",
      "dtypes: float64(4), object(1)\n",
      "memory usage: 3.8+ MB\n"
     ]
    }
   ],
   "source": [
    "df1.info()"
   ]
  },
  {
   "cell_type": "code",
   "execution_count": 4,
   "metadata": {},
   "outputs": [
    {
     "name": "stdout",
     "output_type": "stream",
     "text": [
      "<class 'pandas.core.frame.DataFrame'>\n",
      "RangeIndex: 100000 entries, 0 to 99999\n",
      "Data columns (total 5 columns):\n",
      "id         100000 non-null object\n",
      "f0         100000 non-null float64\n",
      "f1         100000 non-null float64\n",
      "f2         100000 non-null float64\n",
      "product    100000 non-null float64\n",
      "dtypes: float64(4), object(1)\n",
      "memory usage: 3.8+ MB\n"
     ]
    }
   ],
   "source": [
    "df2.info()"
   ]
  },
  {
   "cell_type": "markdown",
   "metadata": {},
   "source": [
    "В каждом датафрейме по 100 тыс. строк, пропуски отсутсвуют.\n",
    "\n",
    "Объединим данные в общий датафрейм для анализа."
   ]
  },
  {
   "cell_type": "code",
   "execution_count": 5,
   "metadata": {},
   "outputs": [
    {
     "data": {
      "text/html": [
       "<div>\n",
       "<style scoped>\n",
       "    .dataframe tbody tr th:only-of-type {\n",
       "        vertical-align: middle;\n",
       "    }\n",
       "\n",
       "    .dataframe tbody tr th {\n",
       "        vertical-align: top;\n",
       "    }\n",
       "\n",
       "    .dataframe thead th {\n",
       "        text-align: right;\n",
       "    }\n",
       "</style>\n",
       "<table border=\"1\" class=\"dataframe\">\n",
       "  <thead>\n",
       "    <tr style=\"text-align: right;\">\n",
       "      <th></th>\n",
       "      <th>f0</th>\n",
       "      <th>f1</th>\n",
       "      <th>f2</th>\n",
       "      <th>product</th>\n",
       "    </tr>\n",
       "  </thead>\n",
       "  <tbody>\n",
       "    <tr>\n",
       "      <td>count</td>\n",
       "      <td>300000.000000</td>\n",
       "      <td>300000.000000</td>\n",
       "      <td>300000.000000</td>\n",
       "      <td>300000.000000</td>\n",
       "    </tr>\n",
       "    <tr>\n",
       "      <td>mean</td>\n",
       "      <td>0.547913</td>\n",
       "      <td>-1.516172</td>\n",
       "      <td>2.497439</td>\n",
       "      <td>85.441667</td>\n",
       "    </tr>\n",
       "    <tr>\n",
       "      <td>std</td>\n",
       "      <td>5.316634</td>\n",
       "      <td>3.900220</td>\n",
       "      <td>2.916502</td>\n",
       "      <td>46.519494</td>\n",
       "    </tr>\n",
       "    <tr>\n",
       "      <td>min</td>\n",
       "      <td>-31.609576</td>\n",
       "      <td>-26.358598</td>\n",
       "      <td>-12.088328</td>\n",
       "      <td>0.000000</td>\n",
       "    </tr>\n",
       "    <tr>\n",
       "      <td>25%</td>\n",
       "      <td>-1.003037</td>\n",
       "      <td>-2.478939</td>\n",
       "      <td>0.648213</td>\n",
       "      <td>52.666629</td>\n",
       "    </tr>\n",
       "    <tr>\n",
       "      <td>50%</td>\n",
       "      <td>0.347934</td>\n",
       "      <td>-0.229632</td>\n",
       "      <td>2.491215</td>\n",
       "      <td>84.038886</td>\n",
       "    </tr>\n",
       "    <tr>\n",
       "      <td>75%</td>\n",
       "      <td>1.755365</td>\n",
       "      <td>0.678562</td>\n",
       "      <td>4.344943</td>\n",
       "      <td>124.174086</td>\n",
       "    </tr>\n",
       "    <tr>\n",
       "      <td>max</td>\n",
       "      <td>29.421755</td>\n",
       "      <td>18.734063</td>\n",
       "      <td>16.739402</td>\n",
       "      <td>190.029838</td>\n",
       "    </tr>\n",
       "  </tbody>\n",
       "</table>\n",
       "</div>"
      ],
      "text/plain": [
       "                  f0             f1             f2        product\n",
       "count  300000.000000  300000.000000  300000.000000  300000.000000\n",
       "mean        0.547913      -1.516172       2.497439      85.441667\n",
       "std         5.316634       3.900220       2.916502      46.519494\n",
       "min       -31.609576     -26.358598     -12.088328       0.000000\n",
       "25%        -1.003037      -2.478939       0.648213      52.666629\n",
       "50%         0.347934      -0.229632       2.491215      84.038886\n",
       "75%         1.755365       0.678562       4.344943     124.174086\n",
       "max        29.421755      18.734063      16.739402     190.029838"
      ]
     },
     "execution_count": 5,
     "metadata": {},
     "output_type": "execute_result"
    }
   ],
   "source": [
    "data1 = df0.merge(df1, how='outer')\n",
    "data = data1.merge(df2, how='outer')\n",
    "data.describe()"
   ]
  },
  {
   "cell_type": "markdown",
   "metadata": {},
   "source": [
    "Из данных видно, что все признаки могут быть как положительными так и отрицательными, почти у всех довольно большое среднеквадратичное отклонение. Что касается ключевого признака, то первое, что бросается в глаза - наличие нулей, т.е. в данных существуют скважины с нулевым запасом нефти."
   ]
  },
  {
   "cell_type": "markdown",
   "metadata": {},
   "source": [
    "Проверим, нет ли в данных дубликатов, проверять будем по id."
   ]
  },
  {
   "cell_type": "code",
   "execution_count": 6,
   "metadata": {},
   "outputs": [
    {
     "data": {
      "text/plain": [
       "299951"
      ]
     },
     "execution_count": 6,
     "metadata": {},
     "output_type": "execute_result"
    }
   ],
   "source": [
    "len(data['id'].unique())"
   ]
  },
  {
   "cell_type": "markdown",
   "metadata": {},
   "source": [
    "Дубликаты есть в кол-ве 49 штук, но они вряд ли повлияют на последующую оценку (меньше 0,02%), поэтому оставим их."
   ]
  },
  {
   "cell_type": "markdown",
   "metadata": {},
   "source": [
    "Проверим много ли \"пустых\" скважин."
   ]
  },
  {
   "cell_type": "code",
   "execution_count": 7,
   "metadata": {},
   "outputs": [
    {
     "data": {
      "text/html": [
       "<div>\n",
       "<style scoped>\n",
       "    .dataframe tbody tr th:only-of-type {\n",
       "        vertical-align: middle;\n",
       "    }\n",
       "\n",
       "    .dataframe tbody tr th {\n",
       "        vertical-align: top;\n",
       "    }\n",
       "\n",
       "    .dataframe thead th {\n",
       "        text-align: right;\n",
       "    }\n",
       "</style>\n",
       "<table border=\"1\" class=\"dataframe\">\n",
       "  <thead>\n",
       "    <tr style=\"text-align: right;\">\n",
       "      <th></th>\n",
       "      <th>id</th>\n",
       "      <th>f0</th>\n",
       "      <th>f1</th>\n",
       "      <th>f2</th>\n",
       "      <th>product</th>\n",
       "    </tr>\n",
       "  </thead>\n",
       "  <tbody>\n",
       "    <tr>\n",
       "      <td>57263</td>\n",
       "      <td>zCM5W</td>\n",
       "      <td>-0.702064</td>\n",
       "      <td>0.375992</td>\n",
       "      <td>0.236572</td>\n",
       "      <td>0.0</td>\n",
       "    </tr>\n",
       "    <tr>\n",
       "      <td>100011</td>\n",
       "      <td>OXyvW</td>\n",
       "      <td>16.320755</td>\n",
       "      <td>-0.562946</td>\n",
       "      <td>-0.001783</td>\n",
       "      <td>0.0</td>\n",
       "    </tr>\n",
       "    <tr>\n",
       "      <td>100013</td>\n",
       "      <td>igmai</td>\n",
       "      <td>6.695604</td>\n",
       "      <td>-0.749449</td>\n",
       "      <td>-0.007630</td>\n",
       "      <td>0.0</td>\n",
       "    </tr>\n",
       "    <tr>\n",
       "      <td>100062</td>\n",
       "      <td>Qjy5w</td>\n",
       "      <td>21.418478</td>\n",
       "      <td>-5.134490</td>\n",
       "      <td>-0.002836</td>\n",
       "      <td>0.0</td>\n",
       "    </tr>\n",
       "    <tr>\n",
       "      <td>100063</td>\n",
       "      <td>G6WCj</td>\n",
       "      <td>6.822701</td>\n",
       "      <td>3.104979</td>\n",
       "      <td>-0.000723</td>\n",
       "      <td>0.0</td>\n",
       "    </tr>\n",
       "    <tr>\n",
       "      <td>...</td>\n",
       "      <td>...</td>\n",
       "      <td>...</td>\n",
       "      <td>...</td>\n",
       "      <td>...</td>\n",
       "      <td>...</td>\n",
       "    </tr>\n",
       "    <tr>\n",
       "      <td>199948</td>\n",
       "      <td>Jbnur</td>\n",
       "      <td>8.277805</td>\n",
       "      <td>-9.178818</td>\n",
       "      <td>0.003275</td>\n",
       "      <td>0.0</td>\n",
       "    </tr>\n",
       "    <tr>\n",
       "      <td>199956</td>\n",
       "      <td>aV1cJ</td>\n",
       "      <td>13.343983</td>\n",
       "      <td>-1.290200</td>\n",
       "      <td>0.005980</td>\n",
       "      <td>0.0</td>\n",
       "    </tr>\n",
       "    <tr>\n",
       "      <td>199961</td>\n",
       "      <td>Zjbn2</td>\n",
       "      <td>13.854163</td>\n",
       "      <td>-11.528089</td>\n",
       "      <td>-0.005556</td>\n",
       "      <td>0.0</td>\n",
       "    </tr>\n",
       "    <tr>\n",
       "      <td>199973</td>\n",
       "      <td>VsayB</td>\n",
       "      <td>12.698645</td>\n",
       "      <td>-4.384673</td>\n",
       "      <td>-0.002600</td>\n",
       "      <td>0.0</td>\n",
       "    </tr>\n",
       "    <tr>\n",
       "      <td>268149</td>\n",
       "      <td>qeefd</td>\n",
       "      <td>-0.865596</td>\n",
       "      <td>-1.615247</td>\n",
       "      <td>-4.126441</td>\n",
       "      <td>0.0</td>\n",
       "    </tr>\n",
       "  </tbody>\n",
       "</table>\n",
       "<p>8237 rows × 5 columns</p>\n",
       "</div>"
      ],
      "text/plain": [
       "           id         f0         f1        f2  product\n",
       "57263   zCM5W  -0.702064   0.375992  0.236572      0.0\n",
       "100011  OXyvW  16.320755  -0.562946 -0.001783      0.0\n",
       "100013  igmai   6.695604  -0.749449 -0.007630      0.0\n",
       "100062  Qjy5w  21.418478  -5.134490 -0.002836      0.0\n",
       "100063  G6WCj   6.822701   3.104979 -0.000723      0.0\n",
       "...       ...        ...        ...       ...      ...\n",
       "199948  Jbnur   8.277805  -9.178818  0.003275      0.0\n",
       "199956  aV1cJ  13.343983  -1.290200  0.005980      0.0\n",
       "199961  Zjbn2  13.854163 -11.528089 -0.005556      0.0\n",
       "199973  VsayB  12.698645  -4.384673 -0.002600      0.0\n",
       "268149  qeefd  -0.865596  -1.615247 -4.126441      0.0\n",
       "\n",
       "[8237 rows x 5 columns]"
      ]
     },
     "execution_count": 7,
     "metadata": {},
     "output_type": "execute_result"
    }
   ],
   "source": [
    "data[data['product'] == 0]"
   ]
  },
  {
   "cell_type": "markdown",
   "metadata": {},
   "source": [
    "8237 \"пустых\" скважин в трех регионах, они явно внесут большой вклад общую оценку."
   ]
  },
  {
   "cell_type": "markdown",
   "metadata": {},
   "source": [
    "Создадим функцию для рисования гистограмм по каждому из признаков."
   ]
  },
  {
   "cell_type": "code",
   "execution_count": 8,
   "metadata": {},
   "outputs": [],
   "source": [
    "def print_hist(df):\n",
    "    plt.figure(figsize=[12, 8])\n",
    "    sns.distplot(df['f0'], label='Признак f0')\n",
    "    sns.distplot(df['f1'], label='Признак f1')\n",
    "    sns.distplot(df['f2'], label='Признак f2')\n",
    "    plt.legend()\n",
    "    plt.show()"
   ]
  },
  {
   "cell_type": "markdown",
   "metadata": {},
   "source": [
    "Нарисуем гистограммы по всем регионам.\n",
    "\n",
    "**Для региона 0:**"
   ]
  },
  {
   "cell_type": "code",
   "execution_count": 9,
   "metadata": {},
   "outputs": [
    {
     "data": {
      "image/png": "[encoded data removed]",
      "text/plain": [
       "<Figure size 864x576 with 1 Axes>"
      ]
     },
     "metadata": {
      "needs_background": "light"
     },
     "output_type": "display_data"
    }
   ],
   "source": [
    "print_hist(df0)"
   ]
  },
  {
   "cell_type": "markdown",
   "metadata": {},
   "source": [
    "**Для региона 1:**"
   ]
  },
  {
   "cell_type": "code",
   "execution_count": 10,
   "metadata": {},
   "outputs": [
    {
     "data": {
      "image/png": "[encoded data removed]",
      "text/plain": [
       "<Figure size 864x576 with 1 Axes>"
      ]
     },
     "metadata": {
      "needs_background": "light"
     },
     "output_type": "display_data"
    }
   ],
   "source": [
    "print_hist(df1)"
   ]
  },
  {
   "cell_type": "markdown",
   "metadata": {},
   "source": [
    "**Для региона 2:**"
   ]
  },
  {
   "cell_type": "code",
   "execution_count": 11,
   "metadata": {},
   "outputs": [
    {
     "data": {
      "image/png": "[encoded data removed]",
      "text/plain": [
       "<Figure size 864x576 with 1 Axes>"
      ]
     },
     "metadata": {
      "needs_background": "light"
     },
     "output_type": "display_data"
    }
   ],
   "source": [
    "print_hist(df2)"
   ]
  },
  {
   "cell_type": "markdown",
   "metadata": {},
   "source": [
    "**Для общего датафрейма:**"
   ]
  },
  {
   "cell_type": "code",
   "execution_count": 12,
   "metadata": {},
   "outputs": [
    {
     "data": {
      "image/png": "[encoded data removed]",
      "text/plain": [
       "<Figure size 864x576 with 1 Axes>"
      ]
     },
     "metadata": {
      "needs_background": "light"
     },
     "output_type": "display_data"
    }
   ],
   "source": [
    "print_hist(data)"
   ]
  },
  {
   "cell_type": "markdown",
   "metadata": {},
   "source": [
    "### Вывод:\n",
    "\n",
    "Из всех явно выделяется только *регион 1*, если в других регионах все признаки распределены близко к нормальному, или не имеют явных выбросов, то в *регионе 1* признак *f2* распределен ступенчато с большой амплитудой (наблюдается многорбость данных), что подтверждается на общем датафрейме, где ступени сохраняются."
   ]
  },
  {
   "cell_type": "markdown",
   "metadata": {},
   "source": [
    "Посмотрим общее распределение по объемам добычи."
   ]
  },
  {
   "cell_type": "code",
   "execution_count": 13,
   "metadata": {},
   "outputs": [
    {
     "data": {
      "image/png": "[encoded data removed]",
      "text/plain": [
       "<Figure size 864x576 with 1 Axes>"
      ]
     },
     "metadata": {
      "needs_background": "light"
     },
     "output_type": "display_data"
    }
   ],
   "source": [
    "plt.figure(figsize=[12, 8])\n",
    "sns.distplot(data['product'], kde=False, hist_kws={\"histtype\": \"step\", \"linewidth\": 3, \n",
    "                                                                 \"alpha\": .7, \"color\": \"k\"}, label='Product')\n",
    "plt.legend()\n",
    "plt.show()"
   ]
  },
  {
   "cell_type": "markdown",
   "metadata": {},
   "source": [
    "### Вывод.\n",
    "\n",
    "Здесь мы видим похожую структуру, которой в большей степени соответсвует признак *f2*, вероятно, он и будет самым влияющим на предсказания признаком. В свою очередь наибольшее влияние этот признак имеет в регионе 1. Отсюда можно предположить, что наилучшие предсказания будут в *регионе 1*."
   ]
  },
  {
   "cell_type": "markdown",
   "metadata": {},
   "source": [
    "Для дальнейшего обучения модели удалим из исходных датафреймов столбцы с *id*."
   ]
  },
  {
   "cell_type": "code",
   "execution_count": 14,
   "metadata": {},
   "outputs": [],
   "source": [
    "df0 = df0.drop(['id'], axis=1)\n",
    "df1 = df1.drop(['id'], axis=1)\n",
    "df2 = df2.drop(['id'], axis=1)"
   ]
  },
  {
   "cell_type": "markdown",
   "metadata": {},
   "source": [
    "# 2. Обучение и проверка модели"
   ]
  },
  {
   "cell_type": "markdown",
   "metadata": {},
   "source": [
    "Разобьем данные на обучающую и валидационную выборки в соотношении 75:25 для каждого региона."
   ]
  },
  {
   "cell_type": "code",
   "execution_count": 15,
   "metadata": {},
   "outputs": [],
   "source": [
    "df_train0, df_valid0 = train_test_split(df0, test_size=0.25, random_state=12345)\n",
    "df_train1, df_valid1 = train_test_split(df1, test_size=0.25, random_state=12345)\n",
    "df_train2, df_valid2 = train_test_split(df2, test_size=0.25, random_state=12345)"
   ]
  },
  {
   "cell_type": "markdown",
   "metadata": {},
   "source": [
    "Обучим модель линейной регрессии для каждого региона и выведем ключевые метрики:\n",
    "\n",
    "- RMSE (среднеквадратическая ошибка);\n",
    "- R2 (коэффициент детерминации);\n",
    "- Средний запас сырья."
   ]
  },
  {
   "cell_type": "markdown",
   "metadata": {},
   "source": [
    "**Для региона 0:**"
   ]
  },
  {
   "cell_type": "code",
   "execution_count": 16,
   "metadata": {},
   "outputs": [],
   "source": [
    "features_train0 = df_train0.drop(['product'], axis=1)\n",
    "target_train0 = df_train0['product']\n",
    "features_valid0 = df_train0.drop(['product'], axis=1)\n",
    "target_valid0 = df_train0['product']"
   ]
  },
  {
   "cell_type": "code",
   "execution_count": 17,
   "metadata": {},
   "outputs": [
    {
     "name": "stdout",
     "output_type": "stream",
     "text": [
      "RMSE = 37.73  |  R2 = 0.27  |  Средний запас сырья: 92.64\n"
     ]
    }
   ],
   "source": [
    "model0 = LinearRegression()\n",
    "model0.fit(features_train0, target_train0)\n",
    "predicted_valid0 = model0.predict(features_valid0)\n",
    "mse = mean_squared_error(target_valid0, predicted_valid0)\n",
    "rmse = mse ** 0.5\n",
    "r2 = r2_score(target_valid0, predicted_valid0)\n",
    "print('RMSE =', round(rmse, 2), ' | ', 'R2 =', round(r2, 2), ' | ', 'Средний запас сырья:', round(predicted_valid0.mean(), 2)) "
   ]
  },
  {
   "cell_type": "markdown",
   "metadata": {},
   "source": [
    "**Для региона 1:**"
   ]
  },
  {
   "cell_type": "code",
   "execution_count": 18,
   "metadata": {},
   "outputs": [],
   "source": [
    "features_train1 = df_train1.drop(['product'], axis=1)\n",
    "target_train1 = df_train1['product']\n",
    "features_valid1 = df_train1.drop(['product'], axis=1)\n",
    "target_valid1 = df_train1['product']"
   ]
  },
  {
   "cell_type": "code",
   "execution_count": 19,
   "metadata": {},
   "outputs": [
    {
     "name": "stdout",
     "output_type": "stream",
     "text": [
      "RMSE = 0.89  |  R2 = 1.0  |  Средний запас сырья: 68.86\n"
     ]
    }
   ],
   "source": [
    "model1 = LinearRegression()\n",
    "model1.fit(features_train1, target_train1)\n",
    "predicted_valid1 = model1.predict(features_valid1)\n",
    "mse = mean_squared_error(target_valid1, predicted_valid1)\n",
    "rmse = mse ** 0.5\n",
    "r2 = r2_score(target_valid1, predicted_valid1)\n",
    "print('RMSE =', round(rmse, 2), ' | ', 'R2 =', round(r2, 2), ' | ', 'Средний запас сырья:', round(predicted_valid1.mean(), 2)) "
   ]
  },
  {
   "cell_type": "markdown",
   "metadata": {},
   "source": [
    "**Для региона 2:**"
   ]
  },
  {
   "cell_type": "code",
   "execution_count": 20,
   "metadata": {},
   "outputs": [],
   "source": [
    "features_train2 = df_train2.drop(['product'], axis=1)\n",
    "target_train2 = df_train2['product']\n",
    "features_valid2 = df_train2.drop(['product'], axis=1)\n",
    "target_valid2 = df_train2['product']"
   ]
  },
  {
   "cell_type": "code",
   "execution_count": 21,
   "metadata": {},
   "outputs": [
    {
     "name": "stdout",
     "output_type": "stream",
     "text": [
      "RMSE = 40.06  |  R2 = 0.2  |  Средний запас сырья: 95.04\n"
     ]
    }
   ],
   "source": [
    "model2 = LinearRegression()\n",
    "model2.fit(features_train2, target_train2)\n",
    "predicted_valid2 = model2.predict(features_valid2)\n",
    "mse = mean_squared_error(target_valid2, predicted_valid2)\n",
    "rmse = mse ** 0.5\n",
    "r2 = r2_score(target_valid2, predicted_valid2)\n",
    "print('RMSE =', round(rmse, 2), ' | ', 'R2 =', round(r2, 2), ' | ', 'Средний запас сырья:', round(predicted_valid2.mean(), 2)) "
   ]
  },
  {
   "cell_type": "markdown",
   "metadata": {},
   "source": [
    "### Вывод.\n",
    "\n",
    "Лучше всего модель на валидации предсказывает данные по *региону 1* (самая низкая среднеквадратическая ошибка и самый высокий коэффициент детерминации), но при этом средний запас сырья в данном регионе минимальный (среди рассмотренных), поэтому нельзя однозначно сказать, что *регион 1* окажется самым прибыльным."
   ]
  },
  {
   "cell_type": "markdown",
   "metadata": {},
   "source": [
    "# 3. Подготовка к расчёту прибыли"
   ]
  },
  {
   "cell_type": "markdown",
   "metadata": {},
   "source": [
    "Все ключевые значения для расчётов сохраним в отдельных переменных, где *budget* - бюджет на разработку скважин в регионе, а *rev_1* - стоимость одного барреля сырья - оба значения сократим на три порядка, т.к. данные в столбце с объемом добычи даны в тысячах барелей.\n",
    "\n",
    "При разведке региона исследуют 500 точек, из которых выбирают 200 лучших для расчёта прибыли - обозначим это переменными *n_point* и *n_top* соответсвенно"
   ]
  },
  {
   "cell_type": "code",
   "execution_count": 22,
   "metadata": {},
   "outputs": [],
   "source": [
    "budget = 1e7\n",
    "rev_1 = 450\n",
    "n_point = 500\n",
    "n_top = 200"
   ]
  },
  {
   "cell_type": "markdown",
   "metadata": {},
   "source": [
    "Рассчитаем достаточный объём сырья для безубыточной разработки новой скважины - *suf_volume*, с учетом, что в разработку пойдут 200 скважин."
   ]
  },
  {
   "cell_type": "code",
   "execution_count": 23,
   "metadata": {},
   "outputs": [
    {
     "data": {
      "text/plain": [
       "111.11111111111111"
      ]
     },
     "execution_count": 23,
     "metadata": {},
     "output_type": "execute_result"
    }
   ],
   "source": [
    "suf_volume = budget / rev_1\n",
    "suf_volume/n_top"
   ]
  },
  {
   "cell_type": "markdown",
   "metadata": {},
   "source": [
    "### Вывод.\n",
    "\n",
    "Необходимый минимальный объем сырья для безубыточной разработки новой скважины равен 111 тыс. баррелей, тогда как средний запас сырья в каждом из регонов заметно ниже."
   ]
  },
  {
   "cell_type": "markdown",
   "metadata": {},
   "source": [
    "# 4. Расчёт прибыли и рисков "
   ]
  },
  {
   "cell_type": "markdown",
   "metadata": {},
   "source": [
    "Напишем функцию расчета прибыли по 200 скважинам с максимальными значениями предсказаний, прибыль будем считать по ключевому признаку."
   ]
  },
  {
   "cell_type": "code",
   "execution_count": 24,
   "metadata": {},
   "outputs": [],
   "source": [
    "def revenue(target, probabilities):\n",
    "    probs_sorted = pd.Series(probabilities, index=target.index).sort_values(ascending=False)\n",
    "    selected = target[probs_sorted.index][:n_top]\n",
    "    revenue = (selected.sum() - suf_volume) * rev_1\n",
    "    return revenue"
   ]
  },
  {
   "cell_type": "markdown",
   "metadata": {},
   "source": [
    "Также напишем функцию для осуществления техники Bootstrap с 1000 выборок (зададим переменную n_sample), чтобы найти распределение прибыли. Сэмплирование будем проводить по 500 строк (*n_point*), т.к. столько точек исследуют при разведке региона. Расчет прибыли будет проводиться за счет ранее написанной функции *revenue*.\n",
    "\n",
    "Внутри функции рассчитаем и выведем следующие метрики:\n",
    "- средняя выручка;\n",
    "- 95%-й доверительный интервал;\n",
    "- вероятность убытков (как процент кол-ва отрицательных значений прибыли от общего числа)."
   ]
  },
  {
   "cell_type": "code",
   "execution_count": 25,
   "metadata": {},
   "outputs": [],
   "source": [
    "n_sample = 1000"
   ]
  },
  {
   "cell_type": "code",
   "execution_count": 30,
   "metadata": {},
   "outputs": [],
   "source": [
    "def bstrp(target, probabilities):\n",
    "    state = np.random.RandomState(12345)   \n",
    "    values = []\n",
    "    for i in range(n_sample):\n",
    "        target_sample = target.sample(n=n_point, replace=True, random_state=state)\n",
    "        probabilities_sample = pd.Series(probabilities, index=target.index)[target_sample.index]\n",
    "        rev = revenue(target_sample, probabilities_sample)\n",
    "        values.append(rev)\n",
    "\n",
    "    values = pd.Series(values)\n",
    "    mean = values.mean()\n",
    "    confidence_interval = (values.quantile(0.025), values.quantile(0.975))\n",
    "    risk = (values<0).mean()\n",
    "    print(\"Средняя выручка: {:.1f} млн руб\".format(mean/1000))  \n",
    "    print(\"95%-й доверительный интервал (млн руб): ({:.1f}, {:.1f})\"\n",
    "          .format(confidence_interval[0]/1000, confidence_interval[1]/1000))\n",
    "    print(\"Вероятность убытков: {:.1%}\".format(risk))"
   ]
  },
  {
   "cell_type": "markdown",
   "metadata": {},
   "source": [
    "Запустим функцию для кадого из регионов.\n",
    "\n",
    "**Регион 0:** "
   ]
  },
  {
   "cell_type": "code",
   "execution_count": 31,
   "metadata": {},
   "outputs": [
    {
     "name": "stdout",
     "output_type": "stream",
     "text": [
      "Средняя выручка: 446.8 млн руб\n",
      "95%-й доверительный интервал (млн руб): (-78.0, 952.9)\n",
      "Вероятность убытков: 4.9%\n"
     ]
    }
   ],
   "source": [
    "bstrp(target_valid0, predicted_valid0)"
   ]
  },
  {
   "cell_type": "markdown",
   "metadata": {},
   "source": [
    "**Регион 1:** "
   ]
  },
  {
   "cell_type": "code",
   "execution_count": 32,
   "metadata": {},
   "outputs": [
    {
     "name": "stdout",
     "output_type": "stream",
     "text": [
      "Средняя выручка: 462.4 млн руб\n",
      "95%-й доверительный интервал (млн руб): (72.3, 880.3)\n",
      "Вероятность убытков: 1.3%\n"
     ]
    }
   ],
   "source": [
    "bstrp(target_valid1, predicted_valid1)"
   ]
  },
  {
   "cell_type": "markdown",
   "metadata": {},
   "source": [
    "**Регион 2:** "
   ]
  },
  {
   "cell_type": "code",
   "execution_count": 33,
   "metadata": {},
   "outputs": [
    {
     "name": "stdout",
     "output_type": "stream",
     "text": [
      "Средняя выручка: 374.4 млн руб\n",
      "95%-й доверительный интервал (млн руб): (-172.2, 856.7)\n",
      "Вероятность убытков: 8.8%\n"
     ]
    }
   ],
   "source": [
    "bstrp(target_valid2, predicted_valid2)"
   ]
  },
  {
   "cell_type": "markdown",
   "metadata": {},
   "source": [
    "# Вывод.\n",
    "\n",
    "По предварительному анализу, оценке качества модели и оценке трех основных показателей (средняя выручка, 95%-й доверительный интервал и вероятность убытков), полученных техникой Bootstrap с 1000 выборок, под необходимые критерии (вероятность убытка меньше 2,5%) подходит только **регион 1** со следующими показателями:\n",
    "- Средняя выручка: 446.8 млн руб\n",
    "- 95%-й доверительный интервал (млн руб): (72.3, 880.3)\n",
    "- Вероятность убытков: 4.9%\n",
    "\n",
    "Для остальных регионов вероятность убытка выше 2,5% при этом ниже средняя выручка, поэтому для разработки скважин можно рекомендовать только **регион 1**."
   ]
  }
 ],
 "metadata": {
  "kernelspec": {
   "display_name": "Python 3",
   "language": "python",
   "name": "python3"
  },
  "language_info": {
   "codemirror_mode": {
    "name": "ipython",
    "version": 3
   },
   "file_extension": ".py",
   "mimetype": "text/x-python",
   "name": "python",
   "nbconvert_exporter": "python",
   "pygments_lexer": "ipython3",
   "version": "3.7.6"
  }
 },
 "nbformat": 4,
 "nbformat_minor": 2
}
